{
 "cells": [
  {
   "cell_type": "markdown",
   "metadata": {},
   "source": [
    "# Some lessons on working with real world data: APIs and data wrangling"
   ]
  },
  {
   "cell_type": "code",
   "execution_count": null,
   "metadata": {},
   "outputs": [],
   "source": [
    "import urllib\n",
    "import numpy as np\n",
    "import pandas as pd\n",
    "import matplotlib.pyplot as plt"
   ]
  },
  {
   "cell_type": "markdown",
   "metadata": {},
   "source": [
    "Let's start to work towards being able\n",
    "to grab data on the fly from the USGS website. And now we've defined\n",
    "the site id for the Verde River, as well as some start and end dates\n",
    "to get the data for. With those defined clearly it makes it much\n",
    "easier for someone else to understand what you are trying to do."
   ]
  },
  {
   "cell_type": "code",
   "execution_count": null,
   "metadata": {},
   "outputs": [],
   "source": [
    "args = {\n",
    "    'site_no': '09506000',\n",
    "    'begin_date': '2021-09-25',\n",
    "    'end_date': '2022-09-25'\n",
    "}\n",
    "query = urllib.parse.urlencode(args)"
   ]
  },
  {
   "cell_type": "code",
   "execution_count": null,
   "id": "3834176e",
   "metadata": {},
   "outputs": [],
   "source": [
    "query"
   ]
  },
  {
   "cell_type": "markdown",
   "metadata": {},
   "source": [
    "Now we can use f-strings to insert these values into the query URL\n",
    "which will point to the same website that we saw in the lecture portion\n",
    "You can verify this by copying the URL into your web browser."
   ]
  },
  {
   "cell_type": "code",
<<<<<<< HEAD
   "execution_count": 24,
   "id": "fc33298f",
=======
   "execution_count": null,
>>>>>>> a83f085b8a87d43690bbf1d022186626d6ecb526
   "metadata": {},
   "outputs": [],
   "source": [
    "verde_url = (\n",
    "    f'https://nwis.waterdata.usgs.gov/usa/nwis/dv/?'\n",
    "    f'cb_00060=on&format=rdb&referred_module=sw&{query}'\n",
    "\n",
    ")\n",
    "print(verde_url)"
   ]
  },
  {
   "cell_type": "markdown",
   "id": "7e3aed95",
   "metadata": {},
   "source": [
    "With that we need to download the data and get it into pandas.\n",
    "To download the data we'll use the `urllib` module which is \n",
    "built into the python \"standard library\" of stuff you get for\n",
    "free when you install python. We use the `urllib.request.urlopen`\n",
    "function which simply opens a connection to the url, just like \n",
    "going to the url in your web browser. Then, we can put the `response`\n",
    "into `pd.read_table`. There are a lot of other parameters going \n",
    "into this function now, and this is very common for when you scrape\n",
    "data directly from the internet because formats vary.\n",
    "\n",
    "Anyways, let's walk through a few of them:\n",
    " - comment='#': Lines beginning with a '#' are comments that pandas should ignore\n",
    " - skipfooter=1: Skip the last line, not including this leads to no data ¯\\_( ツ )_/¯\n",
    " - sep='\\s+': The separator is whitespace (one or more spaces) - this is a regular expression (or regex)\n",
    " - names: The names of the columns. I set these because the USGS ones are trash\n",
    " - index_col=2: Set the 3rd column as the index (that is, \"date\")"
   ]
  },
  {
   "cell_type": "code",
<<<<<<< HEAD
   "execution_count": 29,
   "id": "8c0f9d38",
=======
   "execution_count": null,
>>>>>>> a83f085b8a87d43690bbf1d022186626d6ecb526
   "metadata": {},
   "outputs": [],
   "source": [
    "response = urllib.request.urlopen(verde_url)\n",
    "df = pd.read_table(\n",
    "    response,\n",
    "    comment='#',\n",
    "    skipfooter=1,\n",
    "    sep='\\t',\n",
    "    names=['agency', 'site', 'date', 'streamflow', 'quality_flag'],\n",
    "    index_col=2,\n",
    "    engine='python'\n",
    ").iloc[2:]\n",
    "df.index = pd.DatetimeIndex(df.index)"
   ]
  },
  {
   "cell_type": "markdown",
   "id": "ea2436cd",
   "metadata": {},
   "source": [
    "Now convert the streamflow data to floats and\n",
    "the index to datetimes. When processing raw data\n",
    "it's common to have to do some extra postprocessing"
   ]
  },
  {
   "cell_type": "code",
<<<<<<< HEAD
   "execution_count": 30,
   "id": "abca3add",
   "metadata": {},
   "outputs": [
    {
     "data": {
      "application/vnd.microsoft.datawrangler.viewer.v0+json": {
       "columns": [
        {
         "name": "date",
         "rawType": "datetime64[ns]",
         "type": "datetime"
        },
        {
         "name": "agency",
         "rawType": "object",
         "type": "string"
        },
        {
         "name": "site",
         "rawType": "object",
         "type": "string"
        },
        {
         "name": "streamflow",
         "rawType": "float64",
         "type": "float"
        },
        {
         "name": "quality_flag",
         "rawType": "object",
         "type": "string"
        }
       ],
       "ref": "fa5f9a57-57ca-49a2-a241-ed2e9c8f296b",
       "rows": [
        [
         "2021-09-25 00:00:00",
         "USGS",
         "09506000",
         "83.7",
         "A"
        ],
        [
         "2021-09-26 00:00:00",
         "USGS",
         "09506000",
         "106.0",
         "A"
        ],
        [
         "2021-09-27 00:00:00",
         "USGS",
         "09506000",
         "160.0",
         "A"
        ],
        [
         "2021-09-28 00:00:00",
         "USGS",
         "09506000",
         "183.0",
         "A"
        ],
        [
         "2021-09-29 00:00:00",
         "USGS",
         "09506000",
         "187.0",
         "A"
        ]
       ],
       "shape": {
        "columns": 4,
        "rows": 5
       }
      },
      "text/html": [
       "<div>\n",
       "<style scoped>\n",
       "    .dataframe tbody tr th:only-of-type {\n",
       "        vertical-align: middle;\n",
       "    }\n",
       "\n",
       "    .dataframe tbody tr th {\n",
       "        vertical-align: top;\n",
       "    }\n",
       "\n",
       "    .dataframe thead th {\n",
       "        text-align: right;\n",
       "    }\n",
       "</style>\n",
       "<table border=\"1\" class=\"dataframe\">\n",
       "  <thead>\n",
       "    <tr style=\"text-align: right;\">\n",
       "      <th></th>\n",
       "      <th>agency</th>\n",
       "      <th>site</th>\n",
       "      <th>streamflow</th>\n",
       "      <th>quality_flag</th>\n",
       "    </tr>\n",
       "    <tr>\n",
       "      <th>date</th>\n",
       "      <th></th>\n",
       "      <th></th>\n",
       "      <th></th>\n",
       "      <th></th>\n",
       "    </tr>\n",
       "  </thead>\n",
       "  <tbody>\n",
       "    <tr>\n",
       "      <th>2021-09-25</th>\n",
       "      <td>USGS</td>\n",
       "      <td>09506000</td>\n",
       "      <td>83.7</td>\n",
       "      <td>A</td>\n",
       "    </tr>\n",
       "    <tr>\n",
       "      <th>2021-09-26</th>\n",
       "      <td>USGS</td>\n",
       "      <td>09506000</td>\n",
       "      <td>106.0</td>\n",
       "      <td>A</td>\n",
       "    </tr>\n",
       "    <tr>\n",
       "      <th>2021-09-27</th>\n",
       "      <td>USGS</td>\n",
       "      <td>09506000</td>\n",
       "      <td>160.0</td>\n",
       "      <td>A</td>\n",
       "    </tr>\n",
       "    <tr>\n",
       "      <th>2021-09-28</th>\n",
       "      <td>USGS</td>\n",
       "      <td>09506000</td>\n",
       "      <td>183.0</td>\n",
       "      <td>A</td>\n",
       "    </tr>\n",
       "    <tr>\n",
       "      <th>2021-09-29</th>\n",
       "      <td>USGS</td>\n",
       "      <td>09506000</td>\n",
       "      <td>187.0</td>\n",
       "      <td>A</td>\n",
       "    </tr>\n",
       "  </tbody>\n",
       "</table>\n",
       "</div>"
      ],
      "text/plain": [
       "           agency      site  streamflow quality_flag\n",
       "date                                                \n",
       "2021-09-25   USGS  09506000        83.7            A\n",
       "2021-09-26   USGS  09506000       106.0            A\n",
       "2021-09-27   USGS  09506000       160.0            A\n",
       "2021-09-28   USGS  09506000       183.0            A\n",
       "2021-09-29   USGS  09506000       187.0            A"
      ]
     },
     "execution_count": 5,
     "metadata": {},
     "output_type": "execute_result"
    }
   ],
=======
   "execution_count": null,
   "metadata": {},
   "outputs": [],
>>>>>>> a83f085b8a87d43690bbf1d022186626d6ecb526
   "source": [
    "df['streamflow'] = df['streamflow'].astype(np.float64)\n",
    "df.index = pd.DatetimeIndex(df.index)\n",
    "df.head()"
   ]
  },
  {
   "cell_type": "markdown",
   "id": "66f1d789",
   "metadata": {},
   "source": [
    "And voila - we have a nice dataframe with streamflow data in it\n",
    "You can do all of the standard pandas stuff"
   ]
  },
  {
   "cell_type": "code",
<<<<<<< HEAD
   "execution_count": 31,
   "id": "f2a7bf9f",
   "metadata": {},
   "outputs": [
    {
     "data": {
      "text/plain": [
       "Text(0.5, 0, '')"
      ]
     },
     "execution_count": 6,
     "metadata": {},
     "output_type": "execute_result"
    },
    {
     "data": {
      "image/png": "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",
      "text/plain": [
       "<Figure size 640x480 with 1 Axes>"
      ]
     },
     "metadata": {},
     "output_type": "display_data"
    }
   ],
=======
   "execution_count": null,
   "metadata": {},
   "outputs": [],
>>>>>>> a83f085b8a87d43690bbf1d022186626d6ecb526
   "source": [
    "df['streamflow'].plot()\n",
    "plt.semilogy()\n",
    "plt.ylabel('Streamflow [cfs]')\n",
    "plt.xlabel('')"
   ]
  },
  {
   "cell_type": "markdown",
   "id": "533c0689",
   "metadata": {},
   "source": [
    "Now, you might be thinking... why only one year of data?!\n",
    "And that's a great question. Before getting too far, let's\n",
    "just turn our little data processing things into some helper\n",
    "functions to save space, and make this easier for you to port\n",
    "to your homework"
   ]
  },
  {
   "cell_type": "code",
<<<<<<< HEAD
   "execution_count": 32,
   "id": "f64a4167",
=======
   "execution_count": null,
>>>>>>> a83f085b8a87d43690bbf1d022186626d6ecb526
   "metadata": {},
   "outputs": [],
   "source": [
    "def create_usgs_url(site_no, begin_date, end_date):\n",
    "    return (\n",
    "        f'https://nwis.waterdata.usgs.gov/usa/nwis/dv/?'\n",
    "        f'cb_00060=on&format=rdb&referred_module=sw&'\n",
    "        f'site_no={site_no}&'\n",
    "        f'begin_date={begin_date}&'\n",
    "        f'end_date={end_date}'\n",
    "    )\n",
    "\n",
    "def open_usgs_data(site, begin_date, end_date):\n",
    "    url = create_usgs_url((site), begin_date, end_date)\n",
    "    response = urllib.request.urlopen(url)\n",
    "    df = pd.read_table(\n",
    "        response,\n",
    "        comment='#',\n",
    "        skipfooter=1,\n",
    "        sep='\\t',\n",
    "        names=['agency', 'site', 'date', 'streamflow', 'quality_flag'],\n",
    "        index_col=2,\n",
    "        engine='python'\n",
    "    ).iloc[2:]\n",
    "\n",
    "    # Now convert the streamflow data to floats and\n",
    "    # the index to datetimes. When processing raw data\n",
    "    # it's common to have to do some extra postprocessing\n",
    "    df['streamflow'] = df['streamflow'].astype(np.float64)\n",
    "    df.index = pd.DatetimeIndex(df.index)\n",
    "    return df"
   ]
  },
  {
   "cell_type": "code",
<<<<<<< HEAD
   "execution_count": 33,
   "id": "17aa4814",
   "metadata": {},
   "outputs": [
    {
     "data": {
      "text/plain": [
       "Text(0.5, 0, '')"
      ]
     },
     "execution_count": 8,
     "metadata": {},
     "output_type": "execute_result"
    },
    {
     "data": {
      "image/png": "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",
      "text/plain": [
       "<Figure size 640x480 with 1 Axes>"
      ]
     },
     "metadata": {},
     "output_type": "display_data"
    }
   ],
=======
   "execution_count": null,
   "metadata": {},
   "outputs": [],
>>>>>>> a83f085b8a87d43690bbf1d022186626d6ecb526
   "source": [
    "site = '09506000'\n",
    "begin_date = '2000-09-25'\n",
    "end_date = '2022-09-25'\n",
    "\n",
    "df = open_usgs_data(site, begin_date, end_date)\n",
    "df['streamflow'].plot()\n",
    "plt.semilogy()\n",
    "plt.ylabel('Streamflow [cfs]')\n",
    "plt.xlabel('')"
   ]
  },
  {
   "cell_type": "markdown",
   "id": "5a5a2926",
   "metadata": {},
   "source": [
    "Hmm, 20 years of daily data starts to blend together.\n",
    "Just a quick aside on another nice feature of pandas, the resample\n",
    "Let's just resample the data down to monthly means like so:"
   ]
  },
  {
   "cell_type": "code",
<<<<<<< HEAD
   "execution_count": 9,
   "id": "1b542050",
   "metadata": {},
   "outputs": [
    {
     "data": {
      "text/plain": [
       "DatetimeIndex(['2000-09-25', '2000-09-26', '2000-09-27', '2000-09-28',\n",
       "               '2000-09-29', '2000-09-30', '2000-10-01', '2000-10-02',\n",
       "               '2000-10-03', '2000-10-04',\n",
       "               ...\n",
       "               '2022-09-15', '2022-09-16', '2022-09-17', '2022-09-18',\n",
       "               '2022-09-19', '2022-09-20', '2022-09-21', '2022-09-22',\n",
       "               '2022-09-23', '2022-09-24'],\n",
       "              dtype='datetime64[ns]', name='date', length=8035, freq=None)"
      ]
     },
     "execution_count": 9,
     "metadata": {},
     "output_type": "execute_result"
    }
   ],
=======
   "execution_count": null,
   "id": "1b542050",
   "metadata": {},
   "outputs": [],
>>>>>>> a83f085b8a87d43690bbf1d022186626d6ecb526
   "source": [
    "df.index"
   ]
  },
  {
   "cell_type": "code",
<<<<<<< HEAD
   "execution_count": 38,
   "id": "d0673a94",
=======
   "execution_count": null,
>>>>>>> a83f085b8a87d43690bbf1d022186626d6ecb526
   "metadata": {},
   "outputs": [],
   "source": [
    "df['streamflow'].resample('M').mean().plot()\n",
    "plt.semilogy()\n",
    "plt.ylabel('Streamflow [cfs]')\n",
    "plt.xlabel('')"
   ]
  },
  {
   "cell_type": "markdown",
   "id": "6a16dd65",
   "metadata": {},
   "source": [
    "Now, let's look at some DayMet data. \n",
    "Before that, let me explain...\n",
    "\n",
    "DayMet actually has a really nice interactive\n",
    "API explorer that you can use to prototype:\n",
    "- https://daymet.ornl.gov/single-pixel/api"
   ]
  },
  {
   "cell_type": "code",
<<<<<<< HEAD
   "execution_count": 39,
   "id": "475a47ad",
=======
   "execution_count": null,
>>>>>>> a83f085b8a87d43690bbf1d022186626d6ecb526
   "metadata": {},
   "outputs": [],
   "source": [
    "url = \"https://daymet.ornl.gov/single-pixel/api/data?lat=34.9455&lon=-113.2549\"  \\\n",
    "       \"&vars=prcp&start=1984-08-14&end=2014-10-18&format=json\"\n",
    "url"
   ]
  },
  {
   "cell_type": "code",
<<<<<<< HEAD
   "execution_count": 40,
   "id": "459e6839",
=======
   "execution_count": null,
>>>>>>> a83f085b8a87d43690bbf1d022186626d6ecb526
   "metadata": {},
   "outputs": [],
   "source": [
    "begin_date = '2000-09-20'\n",
    "end_date = '2020-09-25'\n",
    "args = {\n",
    "    'lat':  34.4483605,\n",
    "    'lon': -111.7898705,\n",
    "    'start': begin_date,\n",
    "    'end': end_date,\n",
    "    'vars': ['prcp', 'Tmax', 'Tmin'],\n",
    "    'format': 'csv'\n",
    "}\n",
    "query = urllib.parse.urlencode(args)\n",
    "url = f\"https://daymet.ornl.gov/single-pixel/api/data?{query}\"\n",
    "url"
   ]
  },
  {
   "cell_type": "code",
<<<<<<< HEAD
   "execution_count": 41,
   "id": "5ec9527b",
=======
   "execution_count": null,
>>>>>>> a83f085b8a87d43690bbf1d022186626d6ecb526
   "metadata": {},
   "outputs": [],
   "source": [
    "response = urllib.request.urlopen(url)\n",
    "daymet_df = pd.read_csv(response, header=6)\n",
    "daymet_df.head()"
   ]
  },
  {
   "cell_type": "markdown",
   "id": "3aafe7a7",
   "metadata": {},
   "source": [
    "Daymet is annoying in that it only reports the year\n",
    "and day of year, rather than real dates. Also it uses\n",
    "a no-leap calendar, meaning all years have 365 days.\n",
    "So now our goal is to convert the `year` and `yday`\n",
    "columns into proper date times. This one took me a \n",
    "second to figure out, but some quick googling got \n",
    "me there:\n",
    "https://stackoverflow.com/questions/34258892/converting-year-and-day-of-year-into-datetime-index-in-pandas"
   ]
  },
  {
   "cell_type": "code",
<<<<<<< HEAD
   "execution_count": 42,
   "id": "d2818cac",
=======
   "execution_count": null,
>>>>>>> a83f085b8a87d43690bbf1d022186626d6ecb526
   "metadata": {},
   "outputs": [],
   "source": [
    "datestring = (daymet_df['year'].astype(str) \n",
    "              + daymet_df['yday'].astype(str))\n",
    "datestring.head()"
   ]
  },
  {
   "cell_type": "markdown",
   "id": "18a23600",
   "metadata": {},
   "source": [
    "And we can pass that directly into the `pd.to_datetime` \n",
    "function, with a format of `%Y%j` which means YEAR followed\n",
    "by the Julian day (AKA day of year)"
   ]
  },
  {
   "cell_type": "code",
<<<<<<< HEAD
   "execution_count": 43,
   "id": "a019435b",
=======
   "execution_count": null,
>>>>>>> a83f085b8a87d43690bbf1d022186626d6ecb526
   "metadata": {},
   "outputs": [],
   "source": [
    "dates = pd.to_datetime(datestring, format='%Y%j')\n",
    "daymet_df.index = pd.DatetimeIndex(dates)\n",
    "daymet_df.head()"
   ]
  },
  {
   "cell_type": "markdown",
   "id": "4494ce10",
   "metadata": {},
   "source": [
    "With the dates correct, we now can merge things together\n",
    "Just one last minor hickup, the lack of leap years in\n",
    "daymet means we have to reindex to the dates from the \n",
    "USGS database. Finally, for shorthand I just rename the whole thing `df`."
   ]
  },
  {
   "cell_type": "code",
<<<<<<< HEAD
   "execution_count": 44,
   "id": "59635503",
=======
   "execution_count": null,
>>>>>>> a83f085b8a87d43690bbf1d022186626d6ecb526
   "metadata": {},
   "outputs": [],
   "source": [
    "verde_df = open_usgs_data(site, begin_date, end_date)\n",
    "daymet_df = daymet_df.reindex(verde_df.index)\n",
    "daymet_df['streamflow'] = verde_df['streamflow']\n",
    "df = daymet_df"
   ]
  },
  {
   "cell_type": "markdown",
   "id": "ed191966",
   "metadata": {},
   "source": [
    "And now we can do some comparisons!"
   ]
  },
  {
   "cell_type": "code",
<<<<<<< HEAD
   "execution_count": 45,
   "id": "e3be1c87",
=======
   "execution_count": null,
>>>>>>> a83f085b8a87d43690bbf1d022186626d6ecb526
   "metadata": {},
   "outputs": [],
   "source": [
    "df_monthly = df.resample('M').mean()\n",
    "df_monthly.plot.scatter(x='tmax (deg c)', y='streamflow')\n",
    "plt.semilogy()"
   ]
  },
  {
   "cell_type": "code",
   "execution_count": null,
   "metadata": {},
   "outputs": [],
   "source": []
  }
 ],
 "metadata": {
  "kernelspec": {
<<<<<<< HEAD
   "display_name": "hwrs564a_course_materials_fermunari",
=======
   "display_name": "hwrs564a",
>>>>>>> a83f085b8a87d43690bbf1d022186626d6ecb526
   "language": "python",
   "name": "hwrs564a"
  },
  "language_info": {
   "codemirror_mode": {
    "name": "ipython",
    "version": 3
   },
   "file_extension": ".py",
   "mimetype": "text/x-python",
   "name": "python",
   "nbconvert_exporter": "python",
   "pygments_lexer": "ipython3",
   "version": "3.11.13"
  }
 },
 "nbformat": 4,
 "nbformat_minor": 5
}
